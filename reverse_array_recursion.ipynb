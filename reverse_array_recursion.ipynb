{
  "nbformat": 4,
  "nbformat_minor": 0,
  "metadata": {
    "colab": {
      "provenance": [],
      "authorship_tag": "ABX9TyPC+inSqGXU8WDiPxKUOSZS",
      "include_colab_link": true
    },
    "kernelspec": {
      "name": "python3",
      "display_name": "Python 3"
    },
    "language_info": {
      "name": "python"
    }
  },
  "cells": [
    {
      "cell_type": "markdown",
      "metadata": {
        "id": "view-in-github",
        "colab_type": "text"
      },
      "source": [
        "<a href=\"https://colab.research.google.com/github/bharaniakella/DSA_work/blob/main/reverse_array_recursion.ipynb\" target=\"_parent\"><img src=\"https://colab.research.google.com/assets/colab-badge.svg\" alt=\"Open In Colab\"/></a>"
      ]
    },
    {
      "cell_type": "code",
      "execution_count": 25,
      "metadata": {
        "id": "C94zuvBe3c1Z"
      },
      "outputs": [],
      "source": [
        "import numpy as np\n",
        "arr=np.array([1,2,3,4,5,6,7])\n",
        "n=len(arr)\n"
      ]
    },
    {
      "cell_type": "code",
      "source": [
        "def rev_arr(i):\n",
        "  if(i>=(n//2)):\n",
        "    return\n",
        "\n",
        "  arr[i],arr[n-i-1]=arr[n-i-1],arr[i]\n",
        "  rev_arr(i+1)"
      ],
      "metadata": {
        "id": "PcIuO6Cr30Gi"
      },
      "execution_count": 26,
      "outputs": []
    },
    {
      "cell_type": "code",
      "source": [
        "rev_arr(0)\n",
        "arr"
      ],
      "metadata": {
        "colab": {
          "base_uri": "https://localhost:8080/"
        },
        "id": "Q8e-vZ4h4INC",
        "outputId": "921b6337-1381-45ad-da55-4201b54427b8"
      },
      "execution_count": 27,
      "outputs": [
        {
          "output_type": "execute_result",
          "data": {
            "text/plain": [
              "array([7, 6, 5, 4, 3, 2, 1])"
            ]
          },
          "metadata": {},
          "execution_count": 27
        }
      ]
    },
    {
      "cell_type": "code",
      "source": [],
      "metadata": {
        "id": "87ZI5QAj4KXN"
      },
      "execution_count": 27,
      "outputs": []
    }
  ]
}