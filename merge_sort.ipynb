{
  "nbformat": 4,
  "nbformat_minor": 0,
  "metadata": {
    "colab": {
      "provenance": [],
      "authorship_tag": "ABX9TyMixfzcdqyS6uFaue7jZ3Xn",
      "include_colab_link": true
    },
    "kernelspec": {
      "name": "python3",
      "display_name": "Python 3"
    },
    "language_info": {
      "name": "python"
    }
  },
  "cells": [
    {
      "cell_type": "markdown",
      "metadata": {
        "id": "view-in-github",
        "colab_type": "text"
      },
      "source": [
        "<a href=\"https://colab.research.google.com/github/bharaniakella/DSA_work/blob/main/merge_sort.ipynb\" target=\"_parent\"><img src=\"https://colab.research.google.com/assets/colab-badge.svg\" alt=\"Open In Colab\"/></a>"
      ]
    },
    {
      "cell_type": "code",
      "execution_count": 35,
      "metadata": {
        "id": "QVZrQze3IqHa"
      },
      "outputs": [],
      "source": [
        "import numpy as np\n",
        "arr=np.array([5,4,3,2,1,6,6,9])"
      ]
    },
    {
      "cell_type": "code",
      "source": [
        "def ms(low,high,arr):\n",
        "  if(low>=high):\n",
        "    return\n",
        "  mid=(low+high)//2\n",
        "  ms(low,mid,arr)\n",
        "  ms(mid+1,high,arr)\n",
        "  merge(low,mid,high,arr)"
      ],
      "metadata": {
        "id": "vk7oXPD0IuTF"
      },
      "execution_count": 36,
      "outputs": []
    },
    {
      "cell_type": "code",
      "source": [
        "def merge(low,mid,high,arr):\n",
        "  left=low\n",
        "  right=mid+1\n",
        "  temp=[]\n",
        "  while(left<=mid and right<=high):\n",
        "    if(arr[left]<=arr[right]):\n",
        "      temp.append(arr[left])\n",
        "      left=left+1\n",
        "    else:\n",
        "      temp.append(arr[right])\n",
        "      right=right+1\n",
        "\n",
        "  while(right<=high):\n",
        "    temp.append(arr[right])\n",
        "    right=right+1\n",
        "\n",
        "  while(left<=mid):\n",
        "    temp.append(arr[left])\n",
        "    left=left+1\n",
        "\n",
        "  for i in range(low,high+1):\n",
        "    arr[i]=temp[i-low]\n"
      ],
      "metadata": {
        "id": "Uip84_0AJc2R"
      },
      "execution_count": 37,
      "outputs": []
    },
    {
      "cell_type": "code",
      "source": [
        "ms(0,len(arr)-1,arr)\n",
        "arr"
      ],
      "metadata": {
        "colab": {
          "base_uri": "https://localhost:8080/"
        },
        "id": "ioWwS2ibLkxh",
        "outputId": "4562edf8-5aba-4275-dc9d-578f47c72619"
      },
      "execution_count": 38,
      "outputs": [
        {
          "output_type": "execute_result",
          "data": {
            "text/plain": [
              "array([1, 2, 3, 4, 5, 6, 6, 9])"
            ]
          },
          "metadata": {},
          "execution_count": 38
        }
      ]
    },
    {
      "cell_type": "code",
      "source": [],
      "metadata": {
        "id": "9CI0wRKzLqM6"
      },
      "execution_count": 38,
      "outputs": []
    }
  ]
}