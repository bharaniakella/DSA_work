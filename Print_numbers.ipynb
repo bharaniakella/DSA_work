{
  "nbformat": 4,
  "nbformat_minor": 0,
  "metadata": {
    "colab": {
      "provenance": [],
      "authorship_tag": "ABX9TyPTm8Eh8khSPcqmyjTOm8Dj",
      "include_colab_link": true
    },
    "kernelspec": {
      "name": "python3",
      "display_name": "Python 3"
    },
    "language_info": {
      "name": "python"
    }
  },
  "cells": [
    {
      "cell_type": "markdown",
      "metadata": {
        "id": "view-in-github",
        "colab_type": "text"
      },
      "source": [
        "<a href=\"https://colab.research.google.com/github/bharaniakella/DSA_work/blob/main/Print_numbers.ipynb\" target=\"_parent\"><img src=\"https://colab.research.google.com/assets/colab-badge.svg\" alt=\"Open In Colab\"/></a>"
      ]
    },
    {
      "cell_type": "code",
      "execution_count": 1,
      "metadata": {
        "id": "AnmO3fxBpRMk"
      },
      "outputs": [],
      "source": [
        "def print_n_num(i,n):\n",
        "  if(i>n):\n",
        "    return\n",
        "  print(i)\n",
        "  print_n_num(i+1,n)"
      ]
    },
    {
      "cell_type": "code",
      "source": [
        "print_n_num(1,10)"
      ],
      "metadata": {
        "id": "LxC5hOG3phvP",
        "outputId": "f042fd3a-f4ea-4316-964a-df48c7690790",
        "colab": {
          "base_uri": "https://localhost:8080/"
        }
      },
      "execution_count": 2,
      "outputs": [
        {
          "output_type": "stream",
          "name": "stdout",
          "text": [
            "1\n",
            "2\n",
            "3\n",
            "4\n",
            "5\n",
            "6\n",
            "7\n",
            "8\n",
            "9\n",
            "10\n"
          ]
        }
      ]
    },
    {
      "cell_type": "code",
      "source": [],
      "metadata": {
        "id": "Z6x_WqLVpkNl"
      },
      "execution_count": null,
      "outputs": []
    }
  ]
}