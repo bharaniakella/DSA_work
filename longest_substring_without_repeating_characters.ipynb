{
  "nbformat": 4,
  "nbformat_minor": 0,
  "metadata": {
    "colab": {
      "provenance": [],
      "authorship_tag": "ABX9TyNrKJjrhEameW0r7kUoG9Jr",
      "include_colab_link": true
    },
    "kernelspec": {
      "name": "python3",
      "display_name": "Python 3"
    },
    "language_info": {
      "name": "python"
    }
  },
  "cells": [
    {
      "cell_type": "markdown",
      "metadata": {
        "id": "view-in-github",
        "colab_type": "text"
      },
      "source": [
        "<a href=\"https://colab.research.google.com/github/bharaniakella/DSA_work/blob/main/longest_substring_without_repeating_characters.ipynb\" target=\"_parent\"><img src=\"https://colab.research.google.com/assets/colab-badge.svg\" alt=\"Open In Colab\"/></a>"
      ]
    },
    {
      "cell_type": "code",
      "execution_count": null,
      "metadata": {
        "id": "v9RwBPmZt6PR"
      },
      "outputs": [],
      "source": [
        "class Solution:\n",
        "    def lengthOfLongestSubstring(self, s: str) -> int:\n",
        "        l=0\n",
        "        result=0\n",
        "        charset=set()\n",
        "        for r in range(len(s)):\n",
        "            while(s[r] in charset):\n",
        "                charset.remove(s[l])\n",
        "                l=l+1\n",
        "            charset.add(s[r])\n",
        "            result=max(result,r-l+1)\n",
        "\n",
        "        return result\n",
        "\n",
        "\n",
        ""
      ]
    }
  ]
}