{
  "nbformat": 4,
  "nbformat_minor": 0,
  "metadata": {
    "colab": {
      "provenance": [],
      "authorship_tag": "ABX9TyOEi3HYL7tW7ngm3JyN/j0L",
      "include_colab_link": true
    },
    "kernelspec": {
      "name": "python3",
      "display_name": "Python 3"
    },
    "language_info": {
      "name": "python"
    }
  },
  "cells": [
    {
      "cell_type": "markdown",
      "metadata": {
        "id": "view-in-github",
        "colab_type": "text"
      },
      "source": [
        "<a href=\"https://colab.research.google.com/github/bharaniakella/DSA_work/blob/main/Reverse_polish_notation.ipynb\" target=\"_parent\"><img src=\"https://colab.research.google.com/assets/colab-badge.svg\" alt=\"Open In Colab\"/></a>"
      ]
    },
    {
      "cell_type": "code",
      "execution_count": null,
      "metadata": {
        "id": "pFpw-BRNI3ip"
      },
      "outputs": [],
      "source": [
        "class Solution:\n",
        "    def evalRPN(self, tokens: List[str]) -> int:\n",
        "        stack=[]\n",
        "        for i in tokens:\n",
        "            if i==\"+\":\n",
        "                stack.append(stack.pop()+stack.pop())\n",
        "            elif i==\"*\":\n",
        "                stack.append(stack.pop()*stack.pop())\n",
        "            elif i==\"-\":\n",
        "                a,b=stack.pop(),stack.pop()\n",
        "                stack.append(b-a)\n",
        "            elif i==\"/\":\n",
        "                a,b=stack.pop(),stack.pop()\n",
        "                stack.append(int(b/a))\n",
        "            else:\n",
        "                stack.append(int(i))\n",
        "\n",
        "        return stack[0]\n",
        ""
      ]
    }
  ]
}