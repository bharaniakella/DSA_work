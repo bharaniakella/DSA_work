{
  "nbformat": 4,
  "nbformat_minor": 0,
  "metadata": {
    "colab": {
      "provenance": [],
      "authorship_tag": "ABX9TyMiTtgbIwRDtDif1WXNcYlZ",
      "include_colab_link": true
    },
    "kernelspec": {
      "name": "python3",
      "display_name": "Python 3"
    },
    "language_info": {
      "name": "python"
    }
  },
  "cells": [
    {
      "cell_type": "markdown",
      "metadata": {
        "id": "view-in-github",
        "colab_type": "text"
      },
      "source": [
        "<a href=\"https://colab.research.google.com/github/bharaniakella/DSA_work/blob/main/koko_eating_bananas.ipynb\" target=\"_parent\"><img src=\"https://colab.research.google.com/assets/colab-badge.svg\" alt=\"Open In Colab\"/></a>"
      ]
    },
    {
      "cell_type": "code",
      "execution_count": null,
      "metadata": {
        "id": "KEbTlZobSF-1"
      },
      "outputs": [],
      "source": [
        "class Solution:\n",
        "    def minEatingSpeed(self, piles: List[int], h: int) -> int:\n",
        "\n",
        "        def find_hours(hour):\n",
        "            hr_cnt=0\n",
        "            for i in range(len(piles)):\n",
        "                hr_cnt=hr_cnt + ceil(piles[i]/hour)\n",
        "\n",
        "            return hr_cnt\n",
        "\n",
        "        ans=0\n",
        "        low=1\n",
        "        high=max(piles)\n",
        "        while(low<=high):\n",
        "            mid=low+(high-low)//2\n",
        "            hr_cnt=find_hours(mid)\n",
        "            if(hr_cnt>h):\n",
        "                low=mid+1\n",
        "            elif(hr_cnt<=h):\n",
        "                ans=mid\n",
        "                high=mid-1\n",
        "\n",
        "        return ans\n",
        "\n",
        ""
      ]
    }
  ]
}