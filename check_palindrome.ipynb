{
  "nbformat": 4,
  "nbformat_minor": 0,
  "metadata": {
    "colab": {
      "provenance": [],
      "authorship_tag": "ABX9TyNuMzowU6iSnJUS4KiJoNTm",
      "include_colab_link": true
    },
    "kernelspec": {
      "name": "python3",
      "display_name": "Python 3"
    },
    "language_info": {
      "name": "python"
    }
  },
  "cells": [
    {
      "cell_type": "markdown",
      "metadata": {
        "id": "view-in-github",
        "colab_type": "text"
      },
      "source": [
        "<a href=\"https://colab.research.google.com/github/bharaniakella/DSA_work/blob/main/check_palindrome.ipynb\" target=\"_parent\"><img src=\"https://colab.research.google.com/assets/colab-badge.svg\" alt=\"Open In Colab\"/></a>"
      ]
    },
    {
      "cell_type": "code",
      "execution_count": 21,
      "metadata": {
        "id": "4Lf79wHY5dsr"
      },
      "outputs": [],
      "source": [
        "my_str='abcbab'\n",
        "n=len(my_str)"
      ]
    },
    {
      "cell_type": "code",
      "source": [
        "def pal(i):\n",
        "  if(i>=(n//2)):\n",
        "    return True\n",
        "\n",
        "  if(my_str[i]!=my_str[n-i-1]):\n",
        "    return False\n",
        "\n",
        "  return pal(i+1)"
      ],
      "metadata": {
        "id": "6VwMwN9n5jB7"
      },
      "execution_count": 22,
      "outputs": []
    },
    {
      "cell_type": "code",
      "source": [
        "pal(0)"
      ],
      "metadata": {
        "colab": {
          "base_uri": "https://localhost:8080/"
        },
        "id": "vXMN_q6e51Vr",
        "outputId": "a3e94372-a0e9-49c0-921f-0a6fecf028fa"
      },
      "execution_count": 23,
      "outputs": [
        {
          "output_type": "execute_result",
          "data": {
            "text/plain": [
              "False"
            ]
          },
          "metadata": {},
          "execution_count": 23
        }
      ]
    },
    {
      "cell_type": "code",
      "source": [],
      "metadata": {
        "id": "nlj0BH5U52si"
      },
      "execution_count": 20,
      "outputs": []
    }
  ]
}