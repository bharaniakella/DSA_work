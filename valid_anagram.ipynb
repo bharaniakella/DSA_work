{
  "nbformat": 4,
  "nbformat_minor": 0,
  "metadata": {
    "colab": {
      "provenance": [],
      "authorship_tag": "ABX9TyMSgyux3F0SYqTmpqoBE+cv",
      "include_colab_link": true
    },
    "kernelspec": {
      "name": "python3",
      "display_name": "Python 3"
    },
    "language_info": {
      "name": "python"
    }
  },
  "cells": [
    {
      "cell_type": "markdown",
      "metadata": {
        "id": "view-in-github",
        "colab_type": "text"
      },
      "source": [
        "<a href=\"https://colab.research.google.com/github/bharaniakella/DSA_work/blob/main/valid_anagram.ipynb\" target=\"_parent\"><img src=\"https://colab.research.google.com/assets/colab-badge.svg\" alt=\"Open In Colab\"/></a>"
      ]
    },
    {
      "cell_type": "code",
      "execution_count": null,
      "metadata": {
        "id": "vyo8NF_CN1bC"
      },
      "outputs": [],
      "source": [
        "class Solution:\n",
        "    def isAnagram(self, s: str, t: str) -> bool:\n",
        "        if(len(s)!=len(t)):\n",
        "            return False\n",
        "        s_dict,t_dict={},{}\n",
        "\n",
        "        for i in s:\n",
        "            s_dict[i]=1+s_dict.get(i,0)\n",
        "\n",
        "        for i in t:\n",
        "            t_dict[i]=1+t_dict.get(i,0)\n",
        "\n",
        "        for i in s_dict.keys():\n",
        "            if(s_dict[i]!=t_dict.get(i,0)):\n",
        "                return False\n",
        "\n",
        "        return True\n",
        "\n",
        "\n",
        ""
      ]
    }
  ]
}