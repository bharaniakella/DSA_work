{
  "nbformat": 4,
  "nbformat_minor": 0,
  "metadata": {
    "colab": {
      "provenance": [],
      "authorship_tag": "ABX9TyPaBSw3I3XhKhMt43ujFqlu",
      "include_colab_link": true
    },
    "kernelspec": {
      "name": "python3",
      "display_name": "Python 3"
    },
    "language_info": {
      "name": "python"
    }
  },
  "cells": [
    {
      "cell_type": "markdown",
      "metadata": {
        "id": "view-in-github",
        "colab_type": "text"
      },
      "source": [
        "<a href=\"https://colab.research.google.com/github/bharaniakella/DSA_work/blob/main/highest_altitude.ipynb\" target=\"_parent\"><img src=\"https://colab.research.google.com/assets/colab-badge.svg\" alt=\"Open In Colab\"/></a>"
      ]
    },
    {
      "cell_type": "code",
      "execution_count": null,
      "metadata": {
        "id": "z7iDATV6Znlr"
      },
      "outputs": [],
      "source": [
        "class Solution:\n",
        "    def largestAltitude(self, gain: List[int]) -> int:\n",
        "        altitude=[0]*(len(gain)+1)\n",
        "        altitude[0]=0\n",
        "        maxi=0\n",
        "        for i in range(len(gain)):\n",
        "            altitude[i+1]=altitude[i]+gain[i]\n",
        "            maxi=max(altitude[i+1],maxi)\n",
        "\n",
        "        return maxi\n",
        ""
      ]
    }
  ]
}