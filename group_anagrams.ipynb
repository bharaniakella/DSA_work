{
  "nbformat": 4,
  "nbformat_minor": 0,
  "metadata": {
    "colab": {
      "provenance": [],
      "authorship_tag": "ABX9TyM7WVvnu4B5rKUdI/FZlRlO",
      "include_colab_link": true
    },
    "kernelspec": {
      "name": "python3",
      "display_name": "Python 3"
    },
    "language_info": {
      "name": "python"
    }
  },
  "cells": [
    {
      "cell_type": "markdown",
      "metadata": {
        "id": "view-in-github",
        "colab_type": "text"
      },
      "source": [
        "<a href=\"https://colab.research.google.com/github/bharaniakella/DSA_work/blob/main/group_anagrams.ipynb\" target=\"_parent\"><img src=\"https://colab.research.google.com/assets/colab-badge.svg\" alt=\"Open In Colab\"/></a>"
      ]
    },
    {
      "cell_type": "code",
      "source": [
        "class Solution:\n",
        "    def groupAnagrams(self, strs: List[str]) -> List[List[str]]:\n",
        "        result=defaultdict(list)\n",
        "        for s in strs:\n",
        "            counter=[0]*26\n",
        "            for c in s:\n",
        "                counter[ord(c)-ord(\"a\")]+=1\n",
        "            result[tuple(counter)].append(s)\n",
        "\n",
        "        return result.values()\n",
        ""
      ],
      "metadata": {
        "id": "D1oBypq-tM_5"
      },
      "execution_count": null,
      "outputs": []
    }
  ]
}