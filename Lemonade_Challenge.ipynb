{
  "nbformat": 4,
  "nbformat_minor": 0,
  "metadata": {
    "colab": {
      "provenance": [],
      "authorship_tag": "ABX9TyPj76JlVqljzljm3TFEIkdZ",
      "include_colab_link": true
    },
    "kernelspec": {
      "name": "python3",
      "display_name": "Python 3"
    },
    "language_info": {
      "name": "python"
    }
  },
  "cells": [
    {
      "cell_type": "markdown",
      "metadata": {
        "id": "view-in-github",
        "colab_type": "text"
      },
      "source": [
        "<a href=\"https://colab.research.google.com/github/bharaniakella/DSA_work/blob/main/Lemonade_Challenge.ipynb\" target=\"_parent\"><img src=\"https://colab.research.google.com/assets/colab-badge.svg\" alt=\"Open In Colab\"/></a>"
      ]
    },
    {
      "cell_type": "code",
      "execution_count": null,
      "metadata": {
        "id": "3WcewCfYf6LM"
      },
      "outputs": [],
      "source": [
        "class Solution:\n",
        "    def lemonadeChange(self, bills: List[int]) -> bool:\n",
        "        five,ten=0,0\n",
        "        for bill in bills:\n",
        "            if(bill==5):\n",
        "                five=five+1\n",
        "            elif(bill==10):\n",
        "                if(five==0):\n",
        "                    return False\n",
        "                else:\n",
        "\n",
        "                    ten=ten+1\n",
        "                    five=five-1\n",
        "            else:\n",
        "                if(ten>0 and five>0):\n",
        "                    ten=ten-1\n",
        "                    five=five-1\n",
        "                elif(five>=3):\n",
        "                    five=five-3\n",
        "                else:\n",
        "                    return False\n",
        "        return True\n",
        ""
      ]
    }
  ]
}