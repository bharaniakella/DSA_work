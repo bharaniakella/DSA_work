{
  "nbformat": 4,
  "nbformat_minor": 0,
  "metadata": {
    "colab": {
      "provenance": [],
      "authorship_tag": "ABX9TyMu3Y8AkyqwbIAq69DVEG+L",
      "include_colab_link": true
    },
    "kernelspec": {
      "name": "python3",
      "display_name": "Python 3"
    },
    "language_info": {
      "name": "python"
    }
  },
  "cells": [
    {
      "cell_type": "markdown",
      "metadata": {
        "id": "view-in-github",
        "colab_type": "text"
      },
      "source": [
        "<a href=\"https://colab.research.google.com/github/bharaniakella/DSA_work/blob/main/sum_n_numbers_recursion_parameterised.ipynb\" target=\"_parent\"><img src=\"https://colab.research.google.com/assets/colab-badge.svg\" alt=\"Open In Colab\"/></a>"
      ]
    },
    {
      "cell_type": "code",
      "execution_count": 1,
      "metadata": {
        "id": "hMQZaCT5AtEs"
      },
      "outputs": [],
      "source": [
        "def sum_fun(i,sum):\n",
        "  if(i<1):\n",
        "    print(sum)\n",
        "    return\n",
        "\n",
        "  sum_fun(i-1,sum+i)"
      ]
    },
    {
      "cell_type": "code",
      "source": [
        "sum_fun(3,0)"
      ],
      "metadata": {
        "colab": {
          "base_uri": "https://localhost:8080/"
        },
        "id": "7lvj3-knBT6X",
        "outputId": "b048973d-f08f-422b-bca9-fdeabc12a61e"
      },
      "execution_count": 2,
      "outputs": [
        {
          "output_type": "stream",
          "name": "stdout",
          "text": [
            "6\n"
          ]
        }
      ]
    },
    {
      "cell_type": "code",
      "source": [
        "sum_fun(5,0)"
      ],
      "metadata": {
        "colab": {
          "base_uri": "https://localhost:8080/"
        },
        "id": "rWSz_a9nBWSR",
        "outputId": "ed94ebf9-f4df-4e03-e30d-855618f748d0"
      },
      "execution_count": 3,
      "outputs": [
        {
          "output_type": "stream",
          "name": "stdout",
          "text": [
            "15\n"
          ]
        }
      ]
    },
    {
      "cell_type": "code",
      "source": [],
      "metadata": {
        "id": "10C5IQ8eBYMm"
      },
      "execution_count": null,
      "outputs": []
    }
  ]
}