{
  "nbformat": 4,
  "nbformat_minor": 0,
  "metadata": {
    "colab": {
      "provenance": [],
      "authorship_tag": "ABX9TyOsrlBS6NxGwh6+Xm9g4PpB",
      "include_colab_link": true
    },
    "kernelspec": {
      "name": "python3",
      "display_name": "Python 3"
    },
    "language_info": {
      "name": "python"
    }
  },
  "cells": [
    {
      "cell_type": "markdown",
      "metadata": {
        "id": "view-in-github",
        "colab_type": "text"
      },
      "source": [
        "<a href=\"https://colab.research.google.com/github/bharaniakella/DSA_work/blob/main/majority_element.ipynb\" target=\"_parent\"><img src=\"https://colab.research.google.com/assets/colab-badge.svg\" alt=\"Open In Colab\"/></a>"
      ]
    },
    {
      "cell_type": "code",
      "execution_count": null,
      "metadata": {
        "id": "PJmAgWIDNSSp"
      },
      "outputs": [],
      "source": [
        "class Solution(object):\n",
        "    def majorityElement(self, nums):\n",
        "        \"\"\"\n",
        "        :type nums: List[int]\n",
        "        :rtype: int\n",
        "        \"\"\"\n",
        "        mydict={}\n",
        "        n=len(nums)\n",
        "        for i in nums:\n",
        "            mydict[i]=1+mydict.get(i,0)\n",
        "\n",
        "        for i in mydict.keys():\n",
        "            if(mydict[i]>n/2):\n",
        "                return i\n",
        "\n",
        "\n",
        ""
      ]
    }
  ]
}