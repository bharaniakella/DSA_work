{
  "nbformat": 4,
  "nbformat_minor": 0,
  "metadata": {
    "colab": {
      "provenance": [],
      "authorship_tag": "ABX9TyMtQYSL3knqQlymSBFYKRp/",
      "include_colab_link": true
    },
    "kernelspec": {
      "name": "python3",
      "display_name": "Python 3"
    },
    "language_info": {
      "name": "python"
    }
  },
  "cells": [
    {
      "cell_type": "markdown",
      "metadata": {
        "id": "view-in-github",
        "colab_type": "text"
      },
      "source": [
        "<a href=\"https://colab.research.google.com/github/bharaniakella/DSA_work/blob/main/preOrder_tree.ipynb\" target=\"_parent\"><img src=\"https://colab.research.google.com/assets/colab-badge.svg\" alt=\"Open In Colab\"/></a>"
      ]
    },
    {
      "cell_type": "code",
      "execution_count": 9,
      "metadata": {
        "id": "KV6xUunVGt-5"
      },
      "outputs": [],
      "source": [
        "class TreeNode:\n",
        "  def __init__(self,data):\n",
        "    self.leftChild=None\n",
        "    self.rightChild=None\n",
        "    self.data=data"
      ]
    },
    {
      "cell_type": "code",
      "source": [
        "root=TreeNode(10)\n",
        "c1=TreeNode(20)\n",
        "c2=TreeNode(30)\n",
        "c3=TreeNode(40)\n",
        "c4=TreeNode(50)"
      ],
      "metadata": {
        "id": "440buw2TG9Cw"
      },
      "execution_count": 10,
      "outputs": []
    },
    {
      "cell_type": "code",
      "source": [
        "root.leftChild=c1\n",
        "root.rightChild=c2\n",
        "c1.leftChild=c3\n",
        "c1.rightChild=c4"
      ],
      "metadata": {
        "id": "187zawytHjLm"
      },
      "execution_count": 11,
      "outputs": []
    },
    {
      "cell_type": "code",
      "source": [
        "def preOrder(rootNode):\n",
        "  if rootNode is None:\n",
        "    return\n",
        "\n",
        "  print(rootNode.data)\n",
        "  preOrder(rootNode.leftChild)\n",
        "  preOrder(rootNode.rightChild)"
      ],
      "metadata": {
        "id": "v710PByYHrN4"
      },
      "execution_count": 12,
      "outputs": []
    },
    {
      "cell_type": "code",
      "source": [
        "preOrder(root)"
      ],
      "metadata": {
        "colab": {
          "base_uri": "https://localhost:8080/"
        },
        "id": "NXYaaQPGH5-V",
        "outputId": "8920894e-c974-40c0-88ac-8cafe0b0a025"
      },
      "execution_count": 13,
      "outputs": [
        {
          "output_type": "stream",
          "name": "stdout",
          "text": [
            "10\n",
            "20\n",
            "40\n",
            "50\n",
            "30\n"
          ]
        }
      ]
    },
    {
      "cell_type": "code",
      "source": [],
      "metadata": {
        "id": "-k5F08z_H9yl"
      },
      "execution_count": 13,
      "outputs": []
    }
  ]
}