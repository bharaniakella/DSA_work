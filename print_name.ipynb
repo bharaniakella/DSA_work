{
  "nbformat": 4,
  "nbformat_minor": 0,
  "metadata": {
    "colab": {
      "provenance": [],
      "authorship_tag": "ABX9TyMgIFQupOujrbWuvjDzXkp2",
      "include_colab_link": true
    },
    "kernelspec": {
      "name": "python3",
      "display_name": "Python 3"
    },
    "language_info": {
      "name": "python"
    }
  },
  "cells": [
    {
      "cell_type": "markdown",
      "metadata": {
        "id": "view-in-github",
        "colab_type": "text"
      },
      "source": [
        "<a href=\"https://colab.research.google.com/github/bharaniakella/DSA_work/blob/main/print_name.ipynb\" target=\"_parent\"><img src=\"https://colab.research.google.com/assets/colab-badge.svg\" alt=\"Open In Colab\"/></a>"
      ]
    },
    {
      "cell_type": "code",
      "execution_count": 8,
      "metadata": {
        "id": "KyQTmMToINXn"
      },
      "outputs": [],
      "source": [
        "def print_name(n):\n",
        "  if(n==0):\n",
        "    return\n",
        "  print(\"Bharani\")\n",
        "  print_name(n-1)"
      ]
    },
    {
      "cell_type": "code",
      "source": [
        "print_name(5)"
      ],
      "metadata": {
        "colab": {
          "base_uri": "https://localhost:8080/"
        },
        "id": "kyVKYR7KIfy6",
        "outputId": "fe2af71b-de16-495b-c953-c90e758dc9d2"
      },
      "execution_count": 9,
      "outputs": [
        {
          "output_type": "stream",
          "name": "stdout",
          "text": [
            "Bharani\n",
            "Bharani\n",
            "Bharani\n",
            "Bharani\n",
            "Bharani\n"
          ]
        }
      ]
    },
    {
      "cell_type": "code",
      "source": [],
      "metadata": {
        "id": "GvcBU4JBIi2_"
      },
      "execution_count": null,
      "outputs": []
    }
  ]
}