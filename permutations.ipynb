{
  "nbformat": 4,
  "nbformat_minor": 0,
  "metadata": {
    "colab": {
      "provenance": [],
      "authorship_tag": "ABX9TyMe8PxKp7eUToLImuQFtU6N",
      "include_colab_link": true
    },
    "kernelspec": {
      "name": "python3",
      "display_name": "Python 3"
    },
    "language_info": {
      "name": "python"
    }
  },
  "cells": [
    {
      "cell_type": "markdown",
      "metadata": {
        "id": "view-in-github",
        "colab_type": "text"
      },
      "source": [
        "<a href=\"https://colab.research.google.com/github/bharaniakella/DSA_work/blob/main/permutations.ipynb\" target=\"_parent\"><img src=\"https://colab.research.google.com/assets/colab-badge.svg\" alt=\"Open In Colab\"/></a>"
      ]
    },
    {
      "cell_type": "code",
      "execution_count": null,
      "metadata": {
        "id": "HPewzof2b4zX"
      },
      "outputs": [],
      "source": [
        "class Solution:\n",
        "    def permute(self, nums: List[int]) -> List[List[int]]:\n",
        "        result=[]\n",
        "        n=len(nums)\n",
        "        def helper(index):\n",
        "            if index==n-1:\n",
        "                result.append(nums[:])\n",
        "                return\n",
        "\n",
        "            for j in range(index,n):\n",
        "                nums[index],nums[j]=nums[j],nums[index]\n",
        "                helper(index+1)\n",
        "                nums[index],nums[j]=nums[j],nums[index]\n",
        "\n",
        "\n",
        "        helper(0)\n",
        "\n",
        "        return result\n",
        "\n",
        ""
      ]
    }
  ]
}