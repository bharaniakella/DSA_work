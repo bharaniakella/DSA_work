{
  "nbformat": 4,
  "nbformat_minor": 0,
  "metadata": {
    "colab": {
      "provenance": []
    },
    "kernelspec": {
      "name": "python3",
      "display_name": "Python 3"
    },
    "language_info": {
      "name": "python"
    }
  },
  "cells": [
    {
      "cell_type": "code",
      "execution_count": null,
      "metadata": {
        "id": "yv--nlruUocP"
      },
      "outputs": [],
      "source": [
        "class Solution:\n",
        "    def findContentChildren(self, g: List[int], s: List[int]) -> int:\n",
        "        g.sort()\n",
        "        s.sort()\n",
        "        gp,sp=0,0\n",
        "        count_child=0\n",
        "        while(gp<len(g) and sp<len(s)):\n",
        "            if(s[sp]>=g[gp]):\n",
        "                count_child=count_child+1\n",
        "                sp=sp+1\n",
        "                gp=gp+1\n",
        "            else:\n",
        "                sp=sp+1\n",
        "\n",
        "\n",
        "        return count_child\n",
        "\n",
        "\n",
        ""
      ]
    }
  ]
}